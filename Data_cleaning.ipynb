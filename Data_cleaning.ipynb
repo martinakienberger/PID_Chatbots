{
 "cells": [
  {
   "cell_type": "markdown",
   "metadata": {},
   "source": [
    "## Survey Chatbots - Data cleaning"
   ]
  },
  {
   "cell_type": "code",
   "execution_count": 1,
   "metadata": {},
   "outputs": [],
   "source": [
    "import pandas as pd\n",
    "import matplotlib\n",
    "import numpy as np\n",
    "%matplotlib inline"
   ]
  },
  {
   "cell_type": "code",
   "execution_count": 38,
   "metadata": {},
   "outputs": [],
   "source": [
    "data = pd.read_csv('Chatbots.csv')#, encoding='utf-16')"
   ]
  },
  {
   "cell_type": "code",
   "execution_count": 39,
   "metadata": {},
   "outputs": [
    {
     "data": {
      "text/html": [
       "<div>\n",
       "<style scoped>\n",
       "    .dataframe tbody tr th:only-of-type {\n",
       "        vertical-align: middle;\n",
       "    }\n",
       "\n",
       "    .dataframe tbody tr th {\n",
       "        vertical-align: top;\n",
       "    }\n",
       "\n",
       "    .dataframe thead th {\n",
       "        text-align: right;\n",
       "    }\n",
       "</style>\n",
       "<table border=\"1\" class=\"dataframe\">\n",
       "  <thead>\n",
       "    <tr style=\"text-align: right;\">\n",
       "      <th></th>\n",
       "      <th>Marca temporal</th>\n",
       "      <th>Consentimiento informado para la participación en el estudio\\n \\nGracias por su interés en este estudio sobre el uso de chatbots (programas que simulan una conversación humana para proporcionar información o realizar tareas) que utilizan Inteligencia Artificial (concretamente, modelos grandes de lenguaje, o LLMs) para mejorar la enseñanza y el aprendizaje. Su participación nos ayudará a entender cómo estas herramientas impactan la experiencia educativa.\\nResponder el cuestionario tomará aprox. 5-7 minutos. La participación es voluntaria y el proceso se puede interrumpir en cualquier momento sin explicaciones. Todas las respuestas serán anónimas y los datos se utilizarán exclusivamente  para fines académicos y de investigación.\\n \\nSi ha entendido la información y desea participar en la encuesta, seleccione \"Quiero participar\".\\nSi no desea participar, cierre la ventana del navegador.\\n\\nMuchas gracias por su tiempo y colaboración.\\nEl equipo del proyecto \"Uso de Chatbots basados en LLM para la mejora docente\" (Código 24-146).\\nUniversidad de Granada</th>\n",
       "      <th>¿Cuál es su perfil?</th>\n",
       "      <th>¿Qué medios de comunicación usa en el contexto universitario?</th>\n",
       "      <th>¿Cómo prefiere la interacción con el profesorado (clases, tutorías...)?</th>\n",
       "      <th>Valore la importancia de las siguientes características de la interacción con el profesorado (clases, tutorías...). [Retroalimentación constructiva]</th>\n",
       "      <th>Valore la importancia de las siguientes características de la interacción con el profesorado (clases, tutorías...). [Accesibilidad a través de diferentes medios (correo, chat, etc.)]</th>\n",
       "      <th>Valore la importancia de las siguientes características de la interacción con el profesorado (clases, tutorías...). [La rapidez en la respuesta]</th>\n",
       "      <th>Valore la importancia de las siguientes características de la interacción con el profesorado (clases, tutorías...). [Personalización de las respuestas]</th>\n",
       "      <th>Valore la importancia de las siguientes características de la interacción con el profesorado (clases, tutorías...). [Confianza en las respuestas]</th>\n",
       "      <th>...</th>\n",
       "      <th>Lea y valore las siguientes afirmaciones sobre chatbots. [Los chatbots pueden ofrecer explicaciones claras y comprensibles sobre temas complejos.].1</th>\n",
       "      <th>Lea y valore las siguientes afirmaciones sobre chatbots. [El uso de chatbots conduce a una falta de pensamiento crítico.].1</th>\n",
       "      <th>Lea y valore las siguientes afirmaciones sobre chatbots. [Los chatbots manejan correctamente los datos sensibles.].1</th>\n",
       "      <th>Lea y valore las siguientes afirmaciones sobre chatbots. [Los chatbots pueden ayudar a mejorar las habilidades de estudio y aprendizaje.].1</th>\n",
       "      <th>Lea y valore las siguientes afirmaciones sobre chatbots. [Los chatbots proporcionan respuestas confiables y precisas a mis preguntas académicas.].1</th>\n",
       "      <th>Lea y valore las siguientes afirmaciones sobre chatbots. [Los chatbots tienen un problema de privacidad.].1</th>\n",
       "      <th>¿Cuál es su campo de estudio/área de trabajo?</th>\n",
       "      <th>¿Qué edad tiene?</th>\n",
       "      <th>¿Con qué género se identifica?</th>\n",
       "      <th>Déjenos aquí cualquier comentario que quiera hacernos llegar sobre esta encuesta.</th>\n",
       "    </tr>\n",
       "  </thead>\n",
       "  <tbody>\n",
       "    <tr>\n",
       "      <th>0</th>\n",
       "      <td>2024/12/17 11:42:52 a. m. CET</td>\n",
       "      <td>Quiero participar.</td>\n",
       "      <td>Estudiante (de grado)</td>\n",
       "      <td>Correo electrónico;Plataforma de gestión del a...</td>\n",
       "      <td>Videoconferencias en tiempo real;Clases presen...</td>\n",
       "      <td>Muy importante</td>\n",
       "      <td>Muy importante</td>\n",
       "      <td>Muy importante</td>\n",
       "      <td>Muy importante</td>\n",
       "      <td>Muy importante</td>\n",
       "      <td>...</td>\n",
       "      <td>NaN</td>\n",
       "      <td>NaN</td>\n",
       "      <td>NaN</td>\n",
       "      <td>NaN</td>\n",
       "      <td>NaN</td>\n",
       "      <td>NaN</td>\n",
       "      <td>Historia y Artes</td>\n",
       "      <td>18</td>\n",
       "      <td>Femenino</td>\n",
       "      <td>NaN</td>\n",
       "    </tr>\n",
       "    <tr>\n",
       "      <th>1</th>\n",
       "      <td>2024/12/17 12:20:23 p. m. CET</td>\n",
       "      <td>Quiero participar.</td>\n",
       "      <td>Docente</td>\n",
       "      <td>NaN</td>\n",
       "      <td>NaN</td>\n",
       "      <td>NaN</td>\n",
       "      <td>NaN</td>\n",
       "      <td>NaN</td>\n",
       "      <td>NaN</td>\n",
       "      <td>NaN</td>\n",
       "      <td>...</td>\n",
       "      <td>Más bien de acuerdo</td>\n",
       "      <td>Completamente de acuerdo</td>\n",
       "      <td>Más bien en desacuerdo</td>\n",
       "      <td>Más bien de acuerdo</td>\n",
       "      <td>Más bien en desacuerdo</td>\n",
       "      <td>Completamente de acuerdo</td>\n",
       "      <td>Ingenierías de la Comunicación, Computación y ...</td>\n",
       "      <td>53</td>\n",
       "      <td>Masculino</td>\n",
       "      <td>NaN</td>\n",
       "    </tr>\n",
       "    <tr>\n",
       "      <th>2</th>\n",
       "      <td>2024/12/17 12:31:31 p. m. CET</td>\n",
       "      <td>Quiero participar.</td>\n",
       "      <td>Estudiante (de posgrado)</td>\n",
       "      <td>Correo electrónico;Plataforma de gestión del a...</td>\n",
       "      <td>Mensajes en plataformas de aprendizaje;Correos...</td>\n",
       "      <td>Poco importante</td>\n",
       "      <td>Poco importante</td>\n",
       "      <td>Importante</td>\n",
       "      <td>Importante</td>\n",
       "      <td>Muy importante</td>\n",
       "      <td>...</td>\n",
       "      <td>NaN</td>\n",
       "      <td>NaN</td>\n",
       "      <td>NaN</td>\n",
       "      <td>NaN</td>\n",
       "      <td>NaN</td>\n",
       "      <td>NaN</td>\n",
       "      <td>Ingenierías de la Comunicación, Computación y ...</td>\n",
       "      <td>23</td>\n",
       "      <td>Masculino</td>\n",
       "      <td>Debe  implementarse pero ya la educación imple...</td>\n",
       "    </tr>\n",
       "  </tbody>\n",
       "</table>\n",
       "<p>3 rows × 93 columns</p>\n",
       "</div>"
      ],
      "text/plain": [
       "                  Marca temporal  \\\n",
       "0  2024/12/17 11:42:52 a. m. CET   \n",
       "1  2024/12/17 12:20:23 p. m. CET   \n",
       "2  2024/12/17 12:31:31 p. m. CET   \n",
       "\n",
       "  Consentimiento informado para la participación en el estudio\\n \\nGracias por su interés en este estudio sobre el uso de chatbots (programas que simulan una conversación humana para proporcionar información o realizar tareas) que utilizan Inteligencia Artificial (concretamente, modelos grandes de lenguaje, o LLMs) para mejorar la enseñanza y el aprendizaje. Su participación nos ayudará a entender cómo estas herramientas impactan la experiencia educativa.\\nResponder el cuestionario tomará aprox. 5-7 minutos. La participación es voluntaria y el proceso se puede interrumpir en cualquier momento sin explicaciones. Todas las respuestas serán anónimas y los datos se utilizarán exclusivamente  para fines académicos y de investigación.\\n \\nSi ha entendido la información y desea participar en la encuesta, seleccione \"Quiero participar\".\\nSi no desea participar, cierre la ventana del navegador.\\n\\nMuchas gracias por su tiempo y colaboración.\\nEl equipo del proyecto \"Uso de Chatbots basados en LLM para la mejora docente\" (Código 24-146).\\nUniversidad de Granada  \\\n",
       "0                                 Quiero participar.                                                                                                                                                                                                                                                                                                                                                                                                                                                                                                                                                                                                                                                                                                                                                                                                                                                                                                                                                                                                                                                          \n",
       "1                                 Quiero participar.                                                                                                                                                                                                                                                                                                                                                                                                                                                                                                                                                                                                                                                                                                                                                                                                                                                                                                                                                                                                                                                          \n",
       "2                                 Quiero participar.                                                                                                                                                                                                                                                                                                                                                                                                                                                                                                                                                                                                                                                                                                                                                                                                                                                                                                                                                                                                                                                          \n",
       "\n",
       "        ¿Cuál es su perfil?  \\\n",
       "0     Estudiante (de grado)   \n",
       "1                   Docente   \n",
       "2  Estudiante (de posgrado)   \n",
       "\n",
       "  ¿Qué medios de comunicación usa en el contexto universitario?  \\\n",
       "0  Correo electrónico;Plataforma de gestión del a...              \n",
       "1                                                NaN              \n",
       "2  Correo electrónico;Plataforma de gestión del a...              \n",
       "\n",
       "  ¿Cómo prefiere la interacción con el profesorado (clases, tutorías...)?  \\\n",
       "0  Videoconferencias en tiempo real;Clases presen...                        \n",
       "1                                                NaN                        \n",
       "2  Mensajes en plataformas de aprendizaje;Correos...                        \n",
       "\n",
       "  Valore la importancia de las siguientes características de la interacción con el profesorado (clases, tutorías...). [Retroalimentación constructiva]  \\\n",
       "0                                     Muy importante                                                                                                     \n",
       "1                                                NaN                                                                                                     \n",
       "2                                    Poco importante                                                                                                     \n",
       "\n",
       "  Valore la importancia de las siguientes características de la interacción con el profesorado (clases, tutorías...). [Accesibilidad a través de diferentes medios (correo, chat, etc.)]  \\\n",
       "0                                     Muy importante                                                                                                                                       \n",
       "1                                                NaN                                                                                                                                       \n",
       "2                                    Poco importante                                                                                                                                       \n",
       "\n",
       "  Valore la importancia de las siguientes características de la interacción con el profesorado (clases, tutorías...). [La rapidez en la respuesta]  \\\n",
       "0                                     Muy importante                                                                                                 \n",
       "1                                                NaN                                                                                                 \n",
       "2                                         Importante                                                                                                 \n",
       "\n",
       "  Valore la importancia de las siguientes características de la interacción con el profesorado (clases, tutorías...). [Personalización de las respuestas]  \\\n",
       "0                                     Muy importante                                                                                                        \n",
       "1                                                NaN                                                                                                        \n",
       "2                                         Importante                                                                                                        \n",
       "\n",
       "  Valore la importancia de las siguientes características de la interacción con el profesorado (clases, tutorías...). [Confianza en las respuestas]  \\\n",
       "0                                     Muy importante                                                                                                  \n",
       "1                                                NaN                                                                                                  \n",
       "2                                     Muy importante                                                                                                  \n",
       "\n",
       "   ...  \\\n",
       "0  ...   \n",
       "1  ...   \n",
       "2  ...   \n",
       "\n",
       "  Lea y valore las siguientes afirmaciones sobre chatbots. [Los chatbots pueden ofrecer explicaciones claras y comprensibles sobre temas complejos.].1  \\\n",
       "0                                                NaN                                                                                                     \n",
       "1                                Más bien de acuerdo                                                                                                     \n",
       "2                                                NaN                                                                                                     \n",
       "\n",
       "  Lea y valore las siguientes afirmaciones sobre chatbots. [El uso de chatbots conduce a una falta de pensamiento crítico.].1  \\\n",
       "0                                                NaN                                                                            \n",
       "1                           Completamente de acuerdo                                                                            \n",
       "2                                                NaN                                                                            \n",
       "\n",
       "  Lea y valore las siguientes afirmaciones sobre chatbots. [Los chatbots manejan correctamente los datos sensibles.].1  \\\n",
       "0                                                NaN                                                                     \n",
       "1                             Más bien en desacuerdo                                                                     \n",
       "2                                                NaN                                                                     \n",
       "\n",
       "  Lea y valore las siguientes afirmaciones sobre chatbots. [Los chatbots pueden ayudar a mejorar las habilidades de estudio y aprendizaje.].1  \\\n",
       "0                                                NaN                                                                                            \n",
       "1                                Más bien de acuerdo                                                                                            \n",
       "2                                                NaN                                                                                            \n",
       "\n",
       "  Lea y valore las siguientes afirmaciones sobre chatbots. [Los chatbots proporcionan respuestas confiables y precisas a mis preguntas académicas.].1  \\\n",
       "0                                                NaN                                                                                                    \n",
       "1                             Más bien en desacuerdo                                                                                                    \n",
       "2                                                NaN                                                                                                    \n",
       "\n",
       "  Lea y valore las siguientes afirmaciones sobre chatbots. [Los chatbots tienen un problema de privacidad.].1  \\\n",
       "0                                                NaN                                                            \n",
       "1                           Completamente de acuerdo                                                            \n",
       "2                                                NaN                                                            \n",
       "\n",
       "       ¿Cuál es su campo de estudio/área de trabajo? ¿Qué edad tiene?  \\\n",
       "0                                   Historia y Artes               18   \n",
       "1  Ingenierías de la Comunicación, Computación y ...               53   \n",
       "2  Ingenierías de la Comunicación, Computación y ...               23   \n",
       "\n",
       "  ¿Con qué género se identifica?  \\\n",
       "0                       Femenino   \n",
       "1                      Masculino   \n",
       "2                      Masculino   \n",
       "\n",
       "  Déjenos aquí cualquier comentario que quiera hacernos llegar sobre esta encuesta.  \n",
       "0                                                NaN                                 \n",
       "1                                                NaN                                 \n",
       "2  Debe  implementarse pero ya la educación imple...                                 \n",
       "\n",
       "[3 rows x 93 columns]"
      ]
     },
     "execution_count": 39,
     "metadata": {},
     "output_type": "execute_result"
    }
   ],
   "source": [
    "data.head(3)"
   ]
  },
  {
   "cell_type": "code",
   "execution_count": 40,
   "metadata": {},
   "outputs": [
    {
     "data": {
      "text/plain": [
       "91"
      ]
     },
     "execution_count": 40,
     "metadata": {},
     "output_type": "execute_result"
    }
   ],
   "source": [
    "len(data)"
   ]
  },
  {
   "cell_type": "code",
   "execution_count": 41,
   "metadata": {},
   "outputs": [
    {
     "data": {
      "text/plain": [
       "¿Cuál es su perfil?\n",
       "Estudiante (de grado)       72\n",
       "Estudiante (de posgrado)    11\n",
       "Docente                      8\n",
       "Name: count, dtype: int64"
      ]
     },
     "execution_count": 41,
     "metadata": {},
     "output_type": "execute_result"
    }
   ],
   "source": [
    "data['¿Cuál es su perfil?'].value_counts()"
   ]
  },
  {
   "cell_type": "code",
   "execution_count": 42,
   "metadata": {},
   "outputs": [],
   "source": [
    "data_doc = data[data['¿Cuál es su perfil?'] == 'Docente']"
   ]
  },
  {
   "cell_type": "code",
   "execution_count": 45,
   "metadata": {},
   "outputs": [],
   "source": [
    "data_est = data[data['¿Cuál es su perfil?'] != 'Docente']"
   ]
  },
  {
   "cell_type": "code",
   "execution_count": 48,
   "metadata": {},
   "outputs": [],
   "source": [
    "data_est = data_est.replace({'Muy importante': 5, \n",
    "              'Importante': 4,\n",
    "              'Neutral': 3,\n",
    "             'Poco importante': 2,\n",
    "             'Nada importante': 1,\n",
    "                 'Completamente de acuerdo': 5, \n",
    "              'Más bien de acuerdo': 4,\n",
    "              'Ni estoy de acuerdo ni en desacuerdo': 3,\n",
    "             'Más bien en desacuerdo': 2,\n",
    "             'Estoy en desacuerdo': 1})"
   ]
  },
  {
   "cell_type": "code",
   "execution_count": 33,
   "metadata": {},
   "outputs": [],
   "source": [
    "data_doc.to_excel('Chatbots_Doc.xlsx')"
   ]
  },
  {
   "cell_type": "code",
   "execution_count": 49,
   "metadata": {},
   "outputs": [],
   "source": [
    "data_est.to_excel('Chatbots_Est.xlsx')"
   ]
  },
  {
   "cell_type": "code",
   "execution_count": null,
   "metadata": {},
   "outputs": [],
   "source": []
  },
  {
   "cell_type": "code",
   "execution_count": null,
   "metadata": {},
   "outputs": [],
   "source": []
  },
  {
   "cell_type": "markdown",
   "metadata": {},
   "source": [
    "### Tests entfernen"
   ]
  },
  {
   "cell_type": "code",
   "execution_count": 122,
   "metadata": {},
   "outputs": [],
   "source": [
    "ind_test = []\n",
    "for j, wert in enumerate(data['D-Q34']):\n",
    "    if 'Martina' in str(wert):\n",
    "        ind_test.append(j)"
   ]
  },
  {
   "cell_type": "code",
   "execution_count": 123,
   "metadata": {},
   "outputs": [
    {
     "data": {
      "text/plain": [
       "[180]"
      ]
     },
     "execution_count": 123,
     "metadata": {},
     "output_type": "execute_result"
    }
   ],
   "source": [
    "ind_test"
   ]
  },
  {
   "cell_type": "code",
   "execution_count": 124,
   "metadata": {},
   "outputs": [
    {
     "data": {
      "text/plain": [
       "'Encuesta realizada en español y alemán por Martina'"
      ]
     },
     "execution_count": 124,
     "metadata": {},
     "output_type": "execute_result"
    }
   ],
   "source": [
    "data['D-Q34'].loc[180]"
   ]
  },
  {
   "cell_type": "code",
   "execution_count": 125,
   "metadata": {},
   "outputs": [],
   "source": [
    "data = data.drop(ind_test).reset_index(drop=True)"
   ]
  },
  {
   "cell_type": "code",
   "execution_count": 126,
   "metadata": {},
   "outputs": [
    {
     "data": {
      "text/plain": [
       "Index([179, 186, 400], dtype='int64')"
      ]
     },
     "execution_count": 126,
     "metadata": {},
     "output_type": "execute_result"
    }
   ],
   "source": [
    "data[data['A-Q5'] > 51].index"
   ]
  },
  {
   "cell_type": "code",
   "execution_count": 127,
   "metadata": {},
   "outputs": [
    {
     "data": {
      "text/plain": [
       "Antwort_ID                           413\n",
       "Datum_Abgeschickt    2022-11-16 20:26:09\n",
       "Letzte_Seite                           4\n",
       "Start-Sprache                de-informal\n",
       "Zufallswert                   1581276687\n",
       "                            ...         \n",
       "D-Q33_4                              NaN\n",
       "D-Q33_5                              NaN\n",
       "D-Q33_6                              NaN\n",
       "D-Q33_7                              NaN\n",
       "D-Q34                                NaN\n",
       "Name: 400, Length: 228, dtype: object"
      ]
     },
     "execution_count": 127,
     "metadata": {},
     "output_type": "execute_result"
    }
   ],
   "source": [
    "data.loc[400]"
   ]
  },
  {
   "cell_type": "code",
   "execution_count": 128,
   "metadata": {},
   "outputs": [],
   "source": [
    "ind_test2 = []\n",
    "for j, wert in enumerate(data['Antwort_ID']):\n",
    "    if '413' in str(wert):\n",
    "        ind_test2.append(j)"
   ]
  },
  {
   "cell_type": "code",
   "execution_count": 129,
   "metadata": {},
   "outputs": [
    {
     "data": {
      "text/plain": [
       "[400]"
      ]
     },
     "execution_count": 129,
     "metadata": {},
     "output_type": "execute_result"
    }
   ],
   "source": [
    "ind_test2"
   ]
  },
  {
   "cell_type": "code",
   "execution_count": 130,
   "metadata": {},
   "outputs": [],
   "source": [
    "data = data.drop(ind_test2).reset_index(drop=True)"
   ]
  },
  {
   "cell_type": "code",
   "execution_count": 131,
   "metadata": {},
   "outputs": [
    {
     "data": {
      "text/plain": [
       "485"
      ]
     },
     "execution_count": 131,
     "metadata": {},
     "output_type": "execute_result"
    }
   ],
   "source": [
    "len(data)"
   ]
  },
  {
   "cell_type": "markdown",
   "metadata": {},
   "source": [
    "### Finished questionnaires"
   ]
  },
  {
   "cell_type": "code",
   "execution_count": 132,
   "metadata": {},
   "outputs": [
    {
     "data": {
      "text/plain": [
       "485"
      ]
     },
     "execution_count": 132,
     "metadata": {},
     "output_type": "execute_result"
    }
   ],
   "source": [
    "len(data)"
   ]
  },
  {
   "cell_type": "code",
   "execution_count": 133,
   "metadata": {},
   "outputs": [
    {
     "data": {
      "text/plain": [
       "Letzte_Seite\n",
       "4    283\n",
       "2     34\n",
       "3     33\n",
       "1     27\n",
       "0      5\n",
       "Name: count, dtype: int64"
      ]
     },
     "execution_count": 133,
     "metadata": {},
     "output_type": "execute_result"
    }
   ],
   "source": [
    "data['Letzte_Seite'].value_counts()"
   ]
  },
  {
   "cell_type": "code",
   "execution_count": 134,
   "metadata": {},
   "outputs": [
    {
     "data": {
      "text/html": [
       "<div>\n",
       "<style scoped>\n",
       "    .dataframe tbody tr th:only-of-type {\n",
       "        vertical-align: middle;\n",
       "    }\n",
       "\n",
       "    .dataframe tbody tr th {\n",
       "        vertical-align: top;\n",
       "    }\n",
       "\n",
       "    .dataframe thead th {\n",
       "        text-align: right;\n",
       "    }\n",
       "</style>\n",
       "<table border=\"1\" class=\"dataframe\">\n",
       "  <thead>\n",
       "    <tr style=\"text-align: right;\">\n",
       "      <th></th>\n",
       "      <th>Antwort_ID</th>\n",
       "      <th>Datum_Abgeschickt</th>\n",
       "      <th>Letzte_Seite</th>\n",
       "      <th>Start-Sprache</th>\n",
       "      <th>Zufallswert</th>\n",
       "      <th>Datum_Start</th>\n",
       "      <th>Datum_Ende</th>\n",
       "      <th>A-Q1_O</th>\n",
       "      <th>A-Q1</th>\n",
       "      <th>A-Q2_1</th>\n",
       "      <th>...</th>\n",
       "      <th>D-Q31_13</th>\n",
       "      <th>D-Q32</th>\n",
       "      <th>D-Q33_1</th>\n",
       "      <th>D-Q33_2</th>\n",
       "      <th>D-Q33_3</th>\n",
       "      <th>D-Q33_4</th>\n",
       "      <th>D-Q33_5</th>\n",
       "      <th>D-Q33_6</th>\n",
       "      <th>D-Q33_7</th>\n",
       "      <th>D-Q34</th>\n",
       "    </tr>\n",
       "  </thead>\n",
       "  <tbody>\n",
       "    <tr>\n",
       "      <th>0</th>\n",
       "      <td>12</td>\n",
       "      <td>2022-09-15 20:28:31</td>\n",
       "      <td>4</td>\n",
       "      <td>de-informal</td>\n",
       "      <td>1478431875</td>\n",
       "      <td>2022-09-15 20:12:01</td>\n",
       "      <td>2022-09-15 20:28:31</td>\n",
       "      <td>Ich unterrichte in der Ukraine.</td>\n",
       "      <td>Ukraine</td>\n",
       "      <td>Ja</td>\n",
       "      <td>...</td>\n",
       "      <td>NaN</td>\n",
       "      <td>Nein</td>\n",
       "      <td>NaN</td>\n",
       "      <td>NaN</td>\n",
       "      <td>NaN</td>\n",
       "      <td>NaN</td>\n",
       "      <td>NaN</td>\n",
       "      <td>NaN</td>\n",
       "      <td>NaN</td>\n",
       "      <td>wenn es möglich wäre. machen sie das Angebot z...</td>\n",
       "    </tr>\n",
       "    <tr>\n",
       "      <th>1</th>\n",
       "      <td>14</td>\n",
       "      <td>2022-09-15 20:26:51</td>\n",
       "      <td>4</td>\n",
       "      <td>de-informal</td>\n",
       "      <td>655161505</td>\n",
       "      <td>2022-09-15 20:13:55</td>\n",
       "      <td>2022-09-15 20:26:51</td>\n",
       "      <td>In der Ukraine</td>\n",
       "      <td>Ukraine</td>\n",
       "      <td>NaN</td>\n",
       "      <td>...</td>\n",
       "      <td>NaN</td>\n",
       "      <td>Ja</td>\n",
       "      <td>NaN</td>\n",
       "      <td>Ja</td>\n",
       "      <td>NaN</td>\n",
       "      <td>Ja</td>\n",
       "      <td>NaN</td>\n",
       "      <td>NaN</td>\n",
       "      <td>NaN</td>\n",
       "      <td>Es war sehr interessant, diese Fragen zu beant...</td>\n",
       "    </tr>\n",
       "    <tr>\n",
       "      <th>2</th>\n",
       "      <td>16</td>\n",
       "      <td>2022-09-15 20:29:26</td>\n",
       "      <td>4</td>\n",
       "      <td>de-informal</td>\n",
       "      <td>1254767850</td>\n",
       "      <td>2022-09-15 20:19:14</td>\n",
       "      <td>2022-09-15 20:29:26</td>\n",
       "      <td>Die Ukraine</td>\n",
       "      <td>Ukraine</td>\n",
       "      <td>NaN</td>\n",
       "      <td>...</td>\n",
       "      <td>NaN</td>\n",
       "      <td>Ja</td>\n",
       "      <td>NaN</td>\n",
       "      <td>NaN</td>\n",
       "      <td>NaN</td>\n",
       "      <td>Ja</td>\n",
       "      <td>NaN</td>\n",
       "      <td>NaN</td>\n",
       "      <td>NaN</td>\n",
       "      <td>NaN</td>\n",
       "    </tr>\n",
       "  </tbody>\n",
       "</table>\n",
       "<p>3 rows × 228 columns</p>\n",
       "</div>"
      ],
      "text/plain": [
       "  Antwort_ID    Datum_Abgeschickt Letzte_Seite Start-Sprache Zufallswert  \\\n",
       "0         12  2022-09-15 20:28:31            4   de-informal  1478431875   \n",
       "1         14  2022-09-15 20:26:51            4   de-informal   655161505   \n",
       "2         16  2022-09-15 20:29:26            4   de-informal  1254767850   \n",
       "\n",
       "           Datum_Start           Datum_Ende                           A-Q1_O  \\\n",
       "0  2022-09-15 20:12:01  2022-09-15 20:28:31  Ich unterrichte in der Ukraine.   \n",
       "1  2022-09-15 20:13:55  2022-09-15 20:26:51                   In der Ukraine   \n",
       "2  2022-09-15 20:19:14  2022-09-15 20:29:26                      Die Ukraine   \n",
       "\n",
       "      A-Q1 A-Q2_1  ... D-Q31_13 D-Q32 D-Q33_1 D-Q33_2 D-Q33_3 D-Q33_4 D-Q33_5  \\\n",
       "0  Ukraine     Ja  ...      NaN  Nein     NaN     NaN     NaN     NaN     NaN   \n",
       "1  Ukraine    NaN  ...      NaN    Ja     NaN      Ja     NaN      Ja     NaN   \n",
       "2  Ukraine    NaN  ...      NaN    Ja     NaN     NaN     NaN      Ja     NaN   \n",
       "\n",
       "  D-Q33_6 D-Q33_7                                              D-Q34  \n",
       "0     NaN     NaN  wenn es möglich wäre. machen sie das Angebot z...  \n",
       "1     NaN     NaN  Es war sehr interessant, diese Fragen zu beant...  \n",
       "2     NaN     NaN                                                NaN  \n",
       "\n",
       "[3 rows x 228 columns]"
      ]
     },
     "execution_count": 134,
     "metadata": {},
     "output_type": "execute_result"
    }
   ],
   "source": [
    "Finished = data[(data['Letzte_Seite'] == 3) | (data['Letzte_Seite'] == 4)].reset_index(drop=True)\n",
    "Finished.head(3)"
   ]
  },
  {
   "cell_type": "code",
   "execution_count": 135,
   "metadata": {},
   "outputs": [
    {
     "data": {
      "text/plain": [
       "316"
      ]
     },
     "execution_count": 135,
     "metadata": {},
     "output_type": "execute_result"
    }
   ],
   "source": [
    "len(Finished)"
   ]
  },
  {
   "cell_type": "markdown",
   "metadata": {},
   "source": [
    "### Finding questionnaires with missing values"
   ]
  },
  {
   "cell_type": "code",
   "execution_count": 136,
   "metadata": {},
   "outputs": [],
   "source": [
    "def count_Ja(row):\n",
    "    cnt = 0\n",
    "    for el in row:\n",
    "        if (str(el) == 'Ja'):\n",
    "            cnt = cnt + 1\n",
    "    return cnt*100/len(row)"
   ]
  },
  {
   "cell_type": "code",
   "execution_count": 137,
   "metadata": {},
   "outputs": [],
   "source": [
    "porc_ja = []\n",
    "for i in range(Finished.shape[0]):\n",
    "    porc_ja.append(count_Ja(Finished.loc[i]))"
   ]
  },
  {
   "cell_type": "code",
   "execution_count": 138,
   "metadata": {},
   "outputs": [],
   "source": [
    "Finished['porc_ja'] = porc_ja"
   ]
  },
  {
   "cell_type": "code",
   "execution_count": 139,
   "metadata": {},
   "outputs": [
    {
     "data": {
      "image/png": "[encoded data removed]",
      "text/plain": [
       "<Figure size 432x288 with 1 Axes>"
      ]
     },
     "metadata": {
      "needs_background": "light"
     },
     "output_type": "display_data"
    }
   ],
   "source": [
    "Finished['porc_ja'].hist();"
   ]
  },
  {
   "cell_type": "code",
   "execution_count": 140,
   "metadata": {},
   "outputs": [
    {
     "data": {
      "text/plain": [
       "Index([  3,  20,  53,  54,  55,  56,  70,  76,  78,  79,  84,  92, 103, 123,\n",
       "       131, 142, 147, 160, 163, 170, 177, 249, 252, 261, 276, 277, 286, 294,\n",
       "       295, 297, 311],\n",
       "      dtype='int64')"
      ]
     },
     "execution_count": 140,
     "metadata": {},
     "output_type": "execute_result"
    }
   ],
   "source": [
    "Finished[Finished['porc_ja'] < 5].index"
   ]
  },
  {
   "cell_type": "code",
   "execution_count": 141,
   "metadata": {},
   "outputs": [],
   "source": [
    "ind_emp = Finished[Finished['porc_ja'] < 5].index"
   ]
  },
  {
   "cell_type": "code",
   "execution_count": 142,
   "metadata": {},
   "outputs": [],
   "source": [
    "Finished = Finished.drop(ind_emp).reset_index(drop=True)"
   ]
  },
  {
   "cell_type": "code",
   "execution_count": 143,
   "metadata": {},
   "outputs": [
    {
     "data": {
      "text/plain": [
       "Index([32, 58, 65, 72, 83, 100, 107, 129, 207], dtype='int64')"
      ]
     },
     "execution_count": 143,
     "metadata": {},
     "output_type": "execute_result"
    }
   ],
   "source": [
    "Finished[Finished['porc_ja'] < 10].index"
   ]
  },
  {
   "cell_type": "markdown",
   "metadata": {},
   "source": [
    "IDs with a low proportion of affirmative answers were checked. IDs 107 and 207 were found to be invalid."
   ]
  },
  {
   "cell_type": "code",
   "execution_count": 144,
   "metadata": {},
   "outputs": [],
   "source": [
    "ind_inv = [107, 207]"
   ]
  },
  {
   "cell_type": "code",
   "execution_count": 145,
   "metadata": {},
   "outputs": [],
   "source": [
    "Finished = Finished.drop(ind_inv).reset_index(drop=True)"
   ]
  },
  {
   "cell_type": "code",
   "execution_count": 146,
   "metadata": {},
   "outputs": [
    {
     "data": {
      "text/plain": [
       "283"
      ]
     },
     "execution_count": 146,
     "metadata": {},
     "output_type": "execute_result"
    }
   ],
   "source": [
    "len(Finished)"
   ]
  },
  {
   "cell_type": "markdown",
   "metadata": {},
   "source": [
    "### Art der Werte kontrollieren und anpassen"
   ]
  },
  {
   "cell_type": "code",
   "execution_count": 106,
   "metadata": {},
   "outputs": [
    {
     "data": {
      "text/plain": [
       "Antwort_ID            object\n",
       "Datum_Abgeschickt     object\n",
       "Letzte_Seite          object\n",
       "Start-Sprache         object\n",
       "Zufallswert           object\n",
       "                      ...   \n",
       "D-Q33_5               object\n",
       "D-Q33_6               object\n",
       "D-Q33_7               object\n",
       "D-Q34                 object\n",
       "porc_ja              float64\n",
       "Length: 229, dtype: object"
      ]
     },
     "execution_count": 106,
     "metadata": {},
     "output_type": "execute_result"
    }
   ],
   "source": [
    "Finished.dtypes"
   ]
  },
  {
   "cell_type": "markdown",
   "metadata": {},
   "source": [
    "Hauptsächlich strings + nans, nur eine Frage, in der Umwandlung in nummerische Werte sinnvoll wäre.\n",
    "\n",
    "Nans in 0 umwandeln?"
   ]
  },
  {
   "cell_type": "code",
   "execution_count": 107,
   "metadata": {},
   "outputs": [
    {
     "data": {
      "text/plain": [
       "dtype('O')"
      ]
     },
     "execution_count": 107,
     "metadata": {},
     "output_type": "execute_result"
    }
   ],
   "source": [
    "Finished['A-Q5'].dtypes"
   ]
  },
  {
   "cell_type": "code",
   "execution_count": 108,
   "metadata": {},
   "outputs": [],
   "source": [
    "def Werte_numm(s):\n",
    "    return pd.to_numeric(s, downcast='integer')"
   ]
  },
  {
   "cell_type": "code",
   "execution_count": 109,
   "metadata": {},
   "outputs": [],
   "source": [
    "#Werte_numm(Finished[el]) funktioniert nicht"
   ]
  },
  {
   "cell_type": "markdown",
   "metadata": {},
   "source": [
    "### Daten speichern"
   ]
  },
  {
   "cell_type": "code",
   "execution_count": 110,
   "metadata": {},
   "outputs": [],
   "source": [
    "#Finished.to_pickle('C:\\Users\\Martina\\Code\\LATILL\\Daten\\survey_results') funktioniert nicht"
   ]
  },
  {
   "cell_type": "code",
   "execution_count": 147,
   "metadata": {},
   "outputs": [],
   "source": [
    "Finished.to_pickle('results_survey_clean')"
   ]
  },
  {
   "cell_type": "code",
   "execution_count": 148,
   "metadata": {},
   "outputs": [],
   "source": [
    "Finished.to_excel('results_survey_clean.xlsx')"
   ]
  },
  {
   "cell_type": "code",
   "execution_count": 149,
   "metadata": {},
   "outputs": [],
   "source": [
    "gloss.to_pickle('gloss_survey')"
   ]
  },
  {
   "cell_type": "code",
   "execution_count": null,
   "metadata": {},
   "outputs": [],
   "source": []
  }
 ],
 "metadata": {
  "kernelspec": {
   "display_name": "Python 3",
   "language": "python",
   "name": "python3"
  },
  "language_info": {
   "codemirror_mode": {
    "name": "ipython",
    "version": 3
   },
   "file_extension": ".py",
   "mimetype": "text/x-python",
   "name": "python",
   "nbconvert_exporter": "python",
   "pygments_lexer": "ipython3",
   "version": "3.8.5"
  }
 },
 "nbformat": 4,
 "nbformat_minor": 4
}
